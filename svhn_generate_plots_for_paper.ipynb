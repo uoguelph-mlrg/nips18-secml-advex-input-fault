{
 "cells": [
  {
   "cell_type": "markdown",
   "metadata": {},
   "source": [
    "### Note\n",
    "Select \"Restart & Clear Output\" from the Kernel drop down above, before commiting changes to git so that diffs are interpretable. Otherwise spurious changes like the vector graphics and cell output will be added."
   ]
  },
  {
   "cell_type": "code",
   "execution_count": null,
   "metadata": {
    "collapsed": true
   },
   "outputs": [],
   "source": [
    "import os\n",
    "import numpy as np\n",
    "from ft_plot import fault_tolerance_unique_obj, fault_tolerance_unique_obj_ADef\n",
    "from ft_plot import fault_tolerance_plot_rot_from_list_30, fault_tolerance_plot_rot_from_list"
   ]
  },
  {
   "cell_type": "markdown",
   "metadata": {},
   "source": [
    "# Figure 1\n",
    "Motivating input-fault tolerance in terms of information conveyed about\n",
    "the original label when a model is subject to attacks with different objectives.\n",
    "We report $I(T; Y)$ and accuracy (broken line) for the SVHN test\n",
    "set, as a function of the SNR in dB for a basic iterative method (BIM) with three\n",
    "different objectives: `mis-cls.`---misclassification; `one tgt.`---a\n",
    "targeted attack with a specific label in place of the original,\n",
    "e.g., mapping all $0\\rightarrow 1$, $1 \\rightarrow 2$, $\\dots$, and $9 \\rightarrow\n",
    "0$; `all tgt.`---draw samples from each class uniformly and map to each\n",
    "incorrect label; `noise`---additive white Gaussian noise (AWGN).\n",
    "Attacks a) and b) are $L_\\infty$- and $L_2$-norm versions of BIM respectively."
   ]
  },
  {
   "cell_type": "code",
   "execution_count": null,
   "metadata": {
    "collapsed": true
   },
   "outputs": [],
   "source": [
    "SAVE = False\n",
    "PREFIX = 'npdata/pytorch/ami/'\n",
    "CKPT = 'final_model_eps_50_seed_1_wd_0e+00'\n",
    "#CKPT = 'final_model_eps_50_seed_1_wd_1e-02'\n",
    "MODEL = PREFIX + CKPT"
   ]
  },
  {
   "cell_type": "code",
   "execution_count": null,
   "metadata": {},
   "outputs": [],
   "source": [
    "basefilename = MODEL.split('/')[-1].split('.')[0] # + '_' + MODEL.split('/')[1]\n",
    "print(basefilename)"
   ]
  },
  {
   "cell_type": "markdown",
   "metadata": {},
   "source": [
    "## Figure 1 a) - $L_2$ BIM"
   ]
  },
  {
   "cell_type": "code",
   "execution_count": null,
   "metadata": {},
   "outputs": [],
   "source": [
    "ft_noise = np.load(MODEL + '_ft_noise.npy')\n",
    "ft_l2_m = np.load(MODEL + '_ft_bim_l2_mcls_100k.npy') # _100k\n",
    "ft_l2_t = np.load(MODEL + '_ft_bim_l2_one_tgt.npy')\n",
    "ft_l2_t_all = np.load(MODEL + '_ft_bim_l2_all_tgt.npy')              "
   ]
  },
  {
   "cell_type": "code",
   "execution_count": null,
   "metadata": {},
   "outputs": [],
   "source": [
    "# introduced a new option 'axis_labels', choices are 'mi', 'acc', or 'both'\n",
    "fault_tolerance_unique_obj([ft_noise, ft_l2_m, ft_l2_t, ft_l2_t_all], \n",
    "                           legend=False, axis_labels='both', labels=['awgn', 'mis-cls.', 'one tgt.', 'all tgt.'], \n",
    "                           save=False, min_snr=5, max_snr=65, modelname=basefilename + '_bim_l2_')"
   ]
  },
  {
   "cell_type": "markdown",
   "metadata": {},
   "source": [
    "## $L_\\infty$ BIM\n",
    "No longer Figure 1 b), see Note below"
   ]
  },
  {
   "cell_type": "code",
   "execution_count": null,
   "metadata": {
    "collapsed": true
   },
   "outputs": [],
   "source": [
    "ft_noise = np.load(MODEL + '_ft_noise.npy')\n",
    "ft_inf = np.load(MODEL + '_ft_bim_inf_mcls.npy')\n",
    "ft_inf_t = np.load(MODEL + '_ft_bim_inf_one_tgt.npy')\n",
    "ft_inf_t_all = np.load(MODEL + '_ft_bim_inf_all_tgt.npy')              "
   ]
  },
  {
   "cell_type": "code",
   "execution_count": null,
   "metadata": {},
   "outputs": [],
   "source": [
    "fault_tolerance_unique_obj([ft_noise, ft_inf, ft_inf_t, ft_inf_t_all], \n",
    "                           legend=True, axis_labels='both', labels=['awgn', 'mis-cls.', 'one tgt.', 'all tgt.'], \n",
    "                           save=False, max_snr=65, modelname=basefilename + '_bim_inf_')"
   ]
  },
  {
   "cell_type": "markdown",
   "metadata": {},
   "source": [
    "## Note\n",
    "The above figure doesn't convey a lot of additional information once you see the L2 case. Since the story with misclassification vs targeted attacks is basically the same between L2 and Linf, suggest showing the figure below instead: A comparison between L2 and Linf (misclassification only) as per the ICLR paper. This would be in place of the existing Linf curves in the appendix. Currently, the L2 curves are out of context in the Appendix, so this clearly shows how Linf is \"easier\" than L2 by overlaying them on the same plot."
   ]
  },
  {
   "cell_type": "code",
   "execution_count": null,
   "metadata": {},
   "outputs": [],
   "source": [
    "#from ft_plot import fault_tolerance_plot_from_list\n",
    "fault_tolerance_unique_obj([ft_noise, ft_l2_m, ft_inf], \n",
    "                            legend=True, save=True, \n",
    "                            labels=['awgn', r'$L_2$', r'$L_\\infty$'], \n",
    "                            max_snr=65,\n",
    "                            modelname=basefilename)"
   ]
  },
  {
   "cell_type": "markdown",
   "metadata": {},
   "source": [
    "# Figure 2"
   ]
  },
  {
   "cell_type": "markdown",
   "metadata": {},
   "source": [
    "## Figure 2 a) - ADef\n",
    "\n",
    "This is different (and much better) than what we included in the nips submission for review. \n",
    "1. fixed bug with evaluation code that resulted in non-smooth curve\n",
    "2. focus on effect of weight decay, not epochs, since the former is more interesting\n",
    "3. show the effect of changing the attack objective like we do in Fig. 1. The targeted case here selects the least likely class for each input (the most powerful targeted attack from the perspective of an adversary), while misclassification means the DeepFool candidates (Algo. used by ADef) are the full range of classes."
   ]
  },
  {
   "cell_type": "code",
   "execution_count": null,
   "metadata": {},
   "outputs": [],
   "source": [
    "from ft_plot import fault_tolerance_unique_obj_ADef\n",
    "path_to_data = 'npdata/pytorch/ami/final_model_eps_50_seed_1_'\n",
    "ft_adef_wd0_mcls = np.load(path_to_data + 'wd_0e+00_adef_data_to_plot_fullbatch_mcls.npy')\n",
    "ft_adef_wd1_mcls = np.load(path_to_data + 'wd_1e-02_adef_data_to_plot_fullbatch_mcls.npy')\n",
    "ft_adef_wd0_tgt = np.load(path_to_data + 'wd_0e+00_adef_data_to_plot_fullbatch_tgt.npy')\n",
    "ft_adef_wd1_tgt = np.load(path_to_data + 'wd_1e-02_adef_data_to_plot_fullbatch_tgt.npy')\n",
    "fault_tolerance_unique_obj_ADef([ft_adef_wd0_mcls[:, :3], ft_adef_wd1_mcls[:, :3], ft_adef_wd0_tgt[:, :3], ft_adef_wd1_tgt[:,:3]], \n",
    "                                 legend=True, labels=[r'mis-cls.', r'mis-cls.*', r'tgt. l.l.', r'tgt. l.l.*'], save=True, \n",
    "                                 plot_name=path_to_data.split('/')[-1] + 'adef_ep50_n10k_no_acc.eps')   "
   ]
  },
  {
   "cell_type": "markdown",
   "metadata": {},
   "source": [
    "## Figure 2 b) - rotations 30 degrees"
   ]
  },
  {
   "cell_type": "code",
   "execution_count": null,
   "metadata": {},
   "outputs": [],
   "source": [
    "rot = np.linspace(0, np.pi / 6)\n",
    "PATH = \"npdata/pytorch/ami/\"\n",
    "MODEL = \"final_model_eps_50_seed_1_wd_1e-02\"\n",
    "ft_rot_wd = np.load(os.path.join(PATH, MODEL + \"_ft_rot30_test.npy\"))\n",
    "MODEL = \"final_model_eps_50_seed_1_wd_0e+00\"\n",
    "ft_rot_no_wd = np.load(os.path.join(PATH, MODEL + \"_ft_rot30_test.npy\"))\n",
    "\n",
    "fault_tolerance_plot_rot_from_list_30(rot, [ft_rot_no_wd, ft_rot_wd], \n",
    "                                   legend=True, save=True, \n",
    "                                   labels=[r'$\\lambda=0$', r'$\\lambda=0.01$'], #r'$\\lambda$ 0e-0', r'$\\lambda$ 1e-2'\n",
    "                                   modelname='final_model_eps_50_seed_1')"
   ]
  },
  {
   "cell_type": "code",
   "execution_count": null,
   "metadata": {},
   "outputs": [],
   "source": [
    "rot = np.linspace(0, np.pi)\n",
    "PATH = \"npdata/pytorch/rot_n2e+03/\"\n",
    "MODEL = \"final_model_eps_250_seed_1_wd_1e-02\"\n",
    "ft_rot_wd = np.load(os.path.join(PATH, MODEL + \"_ft_rot180_test.npy\"))\n",
    "MODEL = \"final_model_eps_250_seed_1_wd_0e+00\"\n",
    "ft_rot_no_wd = np.load(os.path.join(PATH, MODEL + \"_ft_rot180_test.npy\"))\n",
    "\n",
    "fault_tolerance_plot_rot_from_list(rot, [ft_rot_wd, ft_rot_no_wd], \n",
    "                                   legend=False, save=False, \n",
    "                                   labels=['wd', 'no wd'], \n",
    "                                   modelname='final_model_eps_250_seed_1')"
   ]
  },
  {
   "cell_type": "code",
   "execution_count": null,
   "metadata": {
    "collapsed": true
   },
   "outputs": [],
   "source": []
  }
 ],
 "metadata": {
  "anaconda-cloud": {},
  "kernelspec": {
   "display_name": "Python [conda env:py36]",
   "language": "python",
   "name": "conda-env-py36-py"
  },
  "language_info": {
   "codemirror_mode": {
    "name": "ipython",
    "version": 3
   },
   "file_extension": ".py",
   "mimetype": "text/x-python",
   "name": "python",
   "nbconvert_exporter": "python",
   "pygments_lexer": "ipython3",
   "version": "3.6.5"
  }
 },
 "nbformat": 4,
 "nbformat_minor": 2
}
